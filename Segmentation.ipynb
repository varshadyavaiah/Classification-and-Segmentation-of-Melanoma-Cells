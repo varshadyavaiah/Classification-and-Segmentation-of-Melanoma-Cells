{
 "cells": [
  {
   "cell_type": "code",
   "execution_count": 9,
   "metadata": {},
   "outputs": [],
   "source": [
    "from keras.optimizers import Adam\n",
    "import keras\n",
    "from sklearn.model_selection import train_test_split\n",
    "from keras.preprocessing.image import img_to_array\n",
    "from keras.utils import to_categorical\n",
    "import matplotlib.pyplot as plt\n",
    "from keras.models import Model,Sequential\n",
    "from keras.layers import Dense, Dropout, Flatten\n",
    "from keras.layers import Input, concatenate, Conv2DTranspose, Conv2D, MaxPooling2D\n",
    "import numpy as np\n",
    "import random\n",
    "from keras import backend as K\n",
    "import cv2\n",
    "import os\n",
    "import pickle\n",
    "np.random.seed(2017)"
   ]
  },
  {
   "cell_type": "code",
   "execution_count": 11,
   "metadata": {
    "scrolled": true
   },
   "outputs": [
    {
     "name": "stdout",
     "output_type": "stream",
     "text": [
      "Checking if pickled data of images exists\n",
      "Pickled data of images exist\n",
      "Data is loaded\n"
     ]
    }
   ],
   "source": [
    "#Checking if pickled data of images exists\n",
    "print(\"Checking if pickled data of images exists\")\n",
    "data = []\n",
    "label = []\n",
    "if os.path.exists('pickled_data/segmentation.pkl'):\n",
    "    print(\"Pickled data of images exist\")\n",
    "    dataset = pickle.load(open( 'pickled_data/segmentation.pkl', 'rb'))\n",
    "    data = dataset['data']\n",
    "    label = dataset['label']\n",
    "else:\n",
    "    print(\"Pickled data doesn't exist, loading data\")\n",
    "    if not os.path.exists('pickled_data'):\n",
    "        os.makedirs('pickled_data')\n",
    "    directory = os.fsencode(\"melanoma\")\n",
    "    for file in os.listdir(directory):\n",
    "        filename = os.fsdecode(file)\n",
    "        path = str('melanoma/' + filename)\n",
    "        image = cv2.imread(path)\n",
    "        image = cv2.resize(image, (64, 64))\n",
    "        image = img_to_array(image)\n",
    "        data.append(image)\n",
    "        \n",
    "        path = str('gt/' + filename.split('.')[0] + '_segmentation.png')\n",
    "        image = cv2.imread(path)\n",
    "        image = cv2.resize(image, (64, 64))\n",
    "        image = img_to_array(image)\n",
    "        label.append(image)\n",
    "\n",
    "    directory = os.fsencode(\"others\")\n",
    "    for file in os.listdir(directory):\n",
    "        filename = os.fsdecode(file)\n",
    "        path = str('others/' + filename)\n",
    "        image = cv2.imread(path)\n",
    "        image = cv2.resize(image, (64, 64))\n",
    "        image = img_to_array(image)\n",
    "        data.append(image)\n",
    "        \n",
    "        path = str('gt/' + filename.split('.')[0] + '_segmentation.png')\n",
    "        image = cv2.imread(path)\n",
    "        image = cv2.resize(image, (64, 64))\n",
    "        image = img_to_array(image)\n",
    "        label.append(image)\n",
    "    dataset = {}\n",
    "    dataset['data'] = data\n",
    "    dataset['label'] = label\n",
    "    pickle.dump(dataset, open('pickled_data/segmentation.pkl', 'wb'))\n",
    "print(\"Data is loaded\")"
   ]
  },
  {
   "cell_type": "code",
   "execution_count": 12,
   "metadata": {
    "scrolled": true
   },
   "outputs": [],
   "source": [
    "#Converting data and label in NP arrays and Normalising data \n",
    "data = np.array(data, dtype=\"float\") / 255.0\n",
    "label = np.array(label, dtype=\"float\") / 255.0\n",
    "\n",
    "#Splitting into train and test dataset\n",
    "(x_train, x_test, y_train, y_test) = train_test_split(data,label, test_size=0.20, random_state=2018)\n"
   ]
  },
  {
   "cell_type": "code",
   "execution_count": null,
   "metadata": {},
   "outputs": [
    {
     "name": "stdout",
     "output_type": "stream",
     "text": [
      "Train on 1600 samples, validate on 400 samples\n",
      "Epoch 1/10\n",
      "1600/1600 [==============================] - 454s - loss: 0.6395 - acc: 0.9541 - val_loss: 0.6396 - val_acc: 0.8099\n",
      "Epoch 2/10\n",
      "1600/1600 [==============================] - 432s - loss: 0.6393 - acc: 0.4277 - val_loss: 0.6395 - val_acc: 0.2451\n",
      "Epoch 3/10\n",
      "1600/1600 [==============================] - 458s - loss: 0.6393 - acc: 0.2667 - val_loss: 0.6395 - val_acc: 0.2845\n",
      "Epoch 4/10\n",
      "1600/1600 [==============================] - 438s - loss: 0.6393 - acc: 0.3114 - val_loss: 0.6395 - val_acc: 0.3561\n",
      "Epoch 5/10\n",
      "1600/1600 [==============================] - 591s - loss: 0.6393 - acc: 0.4005 - val_loss: 0.6395 - val_acc: 0.4160\n",
      "Epoch 6/10\n",
      "1600/1600 [==============================] - 538s - loss: 0.6393 - acc: 0.4349 - val_loss: 0.6395 - val_acc: 0.4337\n",
      "Epoch 7/10\n",
      "1600/1600 [==============================] - 463s - loss: 0.6393 - acc: 0.4486 - val_loss: 0.6395 - val_acc: 0.4543\n",
      "Epoch 8/10\n",
      "1600/1600 [==============================] - 433s - loss: 0.6393 - acc: 0.4524 - val_loss: 0.6395 - val_acc: 0.4436\n",
      "Epoch 9/10\n",
      "1600/1600 [==============================] - 444s - loss: 0.6393 - acc: 0.4578 - val_loss: 0.6395 - val_acc: 0.4463\n",
      "Epoch 10/10\n",
      "1536/1600 [===========================>..] - ETA: 17s - loss: 0.6384 - acc: 0.4527"
     ]
    }
   ],
   "source": [
    "batch_size = 32\n",
    "num_classes = 2\n",
    "\n",
    "epochs = 10\n",
    "\n",
    "input_shape = (64,64,3)\n",
    "\n",
    "inputs = Input(input_shape)\n",
    "\n",
    "conv1 = Conv2D(32, (3, 3), activation='relu', padding='same')(inputs)\n",
    "conv1 = Conv2D(32, (3, 3), activation='relu', padding='same')(conv1)\n",
    "pool1 = MaxPooling2D(pool_size=(2, 2))(conv1)\n",
    "\n",
    "conv2 = Conv2D(64, (3, 3), activation='relu', padding='same')(pool1)\n",
    "conv2 = Conv2D(64, (3, 3), activation='relu', padding='same')(conv2)\n",
    "pool2 = MaxPooling2D(pool_size=(2, 2))(conv2)\n",
    "\n",
    "conv3 = Conv2D(128, (3, 3), activation='relu', padding='same')(pool2)\n",
    "conv3 = Conv2D(128, (3, 3), activation='relu', padding='same')(conv3)\n",
    "pool3 = MaxPooling2D(pool_size=(2, 2))(conv3)\n",
    "\n",
    "conv4 = Conv2D(256, (3, 3), activation='relu', padding='same')(pool3)\n",
    "conv4 = Conv2D(256, (3, 3), activation='relu', padding='same')(conv4)\n",
    "pool4 = MaxPooling2D(pool_size=(2, 2))(conv4)\n",
    "\n",
    "conv5 = Conv2D(512, (3, 3), activation='relu', padding='same')(pool4)\n",
    "conv5 = Conv2D(512, (3, 3), activation='relu', padding='same')(conv5)\n",
    "\n",
    "up6 = concatenate([Conv2DTranspose(256, (2, 2), strides=(2, 2), padding='same')(conv5), conv4], axis=3)\n",
    "conv6 = Conv2D(256, (3, 3), activation='relu', padding='same')(up6)\n",
    "conv6 = Conv2D(256, (3, 3), activation='relu', padding='same')(conv6)\n",
    "\n",
    "up7 = concatenate([Conv2DTranspose(128, (2, 2), strides=(2, 2), padding='same')(conv6), conv3], axis=3)\n",
    "conv7 = Conv2D(128, (3, 3), activation='relu', padding='same')(up7)\n",
    "conv7 = Conv2D(128, (3, 3), activation='relu', padding='same')(conv7)\n",
    "\n",
    "up8 = concatenate([Conv2DTranspose(64, (2, 2), strides=(2, 2), padding='same')(conv7), conv2], axis=3)\n",
    "conv8 = Conv2D(64, (3, 3), activation='relu', padding='same')(up8)\n",
    "conv8 = Conv2D(64, (3, 3), activation='relu', padding='same')(conv8)\n",
    "\n",
    "up9 = concatenate([Conv2DTranspose(32, (2, 2), strides=(2, 2), padding='same')(conv8), conv1], axis=3)\n",
    "conv9 = Conv2D(32, (3, 3), activation='relu', padding='same')(up9)\n",
    "conv9 = Conv2D(32, (3, 3), activation='relu', padding='same')(conv9)\n",
    "\n",
    "conv10 = Conv2D(3, (1, 1), activation='softmax')(conv9)\n",
    "\n",
    "model = Model(inputs=[inputs], outputs=[conv10])\n",
    "\n",
    "model.compile(optimizer=Adam(lr=1e-5), loss=keras.losses.categorical_crossentropy, metrics=['accuracy'])\n",
    "\n",
    "history = model.fit(x_train, y_train,\n",
    "          batch_size=batch_size,\n",
    "          epochs=epochs,\n",
    "          verbose=1,\n",
    "          validation_data=(x_test, y_test))\n",
    "score = model.evaluate(x_test, y_test, verbose=0)\n",
    "print('Score:', score)"
   ]
  }
 ],
 "metadata": {
  "kernelspec": {
   "display_name": "Python 3",
   "language": "python",
   "name": "python3"
  },
  "language_info": {
   "codemirror_mode": {
    "name": "ipython",
    "version": 3
   },
   "file_extension": ".py",
   "mimetype": "text/x-python",
   "name": "python",
   "nbconvert_exporter": "python",
   "pygments_lexer": "ipython3",
   "version": "3.6.3"
  }
 },
 "nbformat": 4,
 "nbformat_minor": 2
}
