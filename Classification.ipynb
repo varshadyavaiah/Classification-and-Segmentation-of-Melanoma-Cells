{
 "cells": [
  {
   "cell_type": "code",
   "execution_count": 1,
   "metadata": {},
   "outputs": [
    {
     "name": "stderr",
     "output_type": "stream",
     "text": [
      "Using TensorFlow backend.\n"
     ]
    }
   ],
   "source": [
    "import keras\n",
    "from keras.optimizers import Adam, SGD\n",
    "import keras.backend as K\n",
    "from sklearn.model_selection import train_test_split\n",
    "from keras.preprocessing.image import img_to_array\n",
    "from keras.utils import to_categorical\n",
    "import matplotlib.pyplot as plt\n",
    "from keras.models import Sequential\n",
    "from keras.layers import Dense, Dropout, Flatten\n",
    "from keras.layers import Conv2D, MaxPooling2D\n",
    "import numpy as np\n",
    "import random\n",
    "import cv2\n",
    "import os\n",
    "import pickle"
   ]
  },
  {
   "cell_type": "code",
   "execution_count": 2,
   "metadata": {},
   "outputs": [
    {
     "name": "stdout",
     "output_type": "stream",
     "text": [
      "Checking if pickled data of images exists\n",
      "Pickled data of images exist\n",
      "Data is loaded\n"
     ]
    }
   ],
   "source": [
    "#Checking if pickled data of images exists\n",
    "print(\"Checking if pickled data of images exists\")\n",
    "data = []\n",
    "label = []\n",
    "if os.path.exists('pickled_data/melanoma.pkl'):\n",
    "    print(\"Pickled data of images exist\")\n",
    "    dataset = pickle.load(open( 'pickled_data/melanoma.pkl', 'rb'))\n",
    "    data = dataset['data']\n",
    "    label = dataset['label']\n",
    "else:\n",
    "    print(\"Pickled data doesn't exist, loading data\")\n",
    "    if not os.path.exists('pickled_data'):\n",
    "        os.makedirs('pickled_data')\n",
    "    directory = os.fsencode(\"melanoma\")\n",
    "    for file in os.listdir(directory):\n",
    "        filename = os.fsdecode(file)\n",
    "        path = str('melanoma/' + filename)\n",
    "        image = cv2.imread(path)\n",
    "        image = cv2.resize(image, (64, 64))\n",
    "        image = img_to_array(image)\n",
    "        data.append(image)\n",
    "        label.append(1)\n",
    "\n",
    "    directory = os.fsencode(\"others\")\n",
    "    for file in os.listdir(directory):\n",
    "        filename = os.fsdecode(file)\n",
    "        path = str('others/' + filename)\n",
    "        image = cv2.imread(path)\n",
    "        image = cv2.resize(image, (64, 64))\n",
    "        image = img_to_array(image)\n",
    "        data.append(image)\n",
    "        label.append(0)\n",
    "    dataset = {}\n",
    "    dataset['data'] = data\n",
    "    dataset['label'] = label\n",
    "    pickle.dump(dataset, open('pickled_data/melanoma.pkl', 'wb'))\n",
    "print(\"Data is loaded\")"
   ]
  },
  {
   "cell_type": "code",
   "execution_count": 3,
   "metadata": {
    "collapsed": true
   },
   "outputs": [],
   "source": [
    "#Converting data and label in NP arrays and Normalising data \n",
    "data = np.array(data, dtype=\"float\") / 255.0\n",
    "label = np.array(label)\n",
    "\n",
    "#Splitting into train and test dataset\n",
    "num_classes=2\n",
    "(x_train, x_test, y_train, y_test) = train_test_split(data,label, test_size=0.20, random_state=2018)\n",
    "y_train = to_categorical(y_train, num_classes)\n",
    "y_test = to_categorical(y_test, num_classes)"
   ]
  },
  {
   "cell_type": "code",
   "execution_count": 4,
   "metadata": {
    "collapsed": true
   },
   "outputs": [],
   "source": [
    "class_weight=[0.4,2.7]"
   ]
  },
  {
   "cell_type": "code",
   "execution_count": 5,
   "metadata": {
    "collapsed": true
   },
   "outputs": [],
   "source": [
    "from sklearn.metrics import fbeta_score\n",
    "\n",
    "def precision(y_true, y_pred):\n",
    "    \"\"\"Precision metric.\n",
    "\n",
    "    Only computes a batch-wise average of precision.\n",
    "\n",
    "    Computes the precision, a metric for multi-label classification of\n",
    "    how many selected items are relevant.\n",
    "    \"\"\"\n",
    "    print(\"y_true\"+str(y_true))\n",
    "    print(\"y_pred\"+str(y_pred))\n",
    "    true_positives = K.sum(K.round(K.clip(y_true * y_pred, 0, 1)))\n",
    "    predicted_positives = K.sum(K.round(K.clip(y_pred, 0, 1)))\n",
    "    precision = true_positives / (predicted_positives + K.epsilon())\n",
    "    return precision\n",
    "\n",
    "\n",
    "def recall(y_true, y_pred):\n",
    "    \"\"\"Recall metric.\n",
    "\n",
    "    Only computes a batch-wise average of recall.\n",
    "\n",
    "    Computes the recall, a metric for multi-label classification of\n",
    "    how many relevant items are selected.\n",
    "    \"\"\"\n",
    "    true_positives = K.sum(K.round(K.clip(y_true * y_pred, 0, 1)))\n",
    "    possible_positives = K.sum(K.round(K.clip(y_true, 0, 1)))\n",
    "    recall = true_positives / (possible_positives + K.epsilon())\n",
    "    return recall\n",
    "\n",
    "from scipy import stats\n",
    "\n",
    "def fmeasure(y_true, y_pred):\n",
    "    # Calculates the f-measure, the harmonic mean of precision and recall.\n",
    "    return (2*precision(y_true, y_pred)*recall(y_true, y_pred))/(precision(y_true, y_pred)+recall(y_true, y_pred))"
   ]
  },
  {
   "cell_type": "code",
   "execution_count": 6,
   "metadata": {
    "scrolled": true
   },
   "outputs": [
    {
     "name": "stdout",
     "output_type": "stream",
     "text": [
      "y_trueTensor(\"dense_2_target:0\", shape=(?, ?), dtype=float32)\n",
      "y_predTensor(\"dense_2/Softmax:0\", shape=(?, 2), dtype=float32)\n",
      "y_trueTensor(\"dense_2_target:0\", shape=(?, ?), dtype=float32)\n",
      "y_predTensor(\"dense_2/Softmax:0\", shape=(?, 2), dtype=float32)\n",
      "y_trueTensor(\"dense_2_target:0\", shape=(?, ?), dtype=float32)\n",
      "y_predTensor(\"dense_2/Softmax:0\", shape=(?, 2), dtype=float32)\n",
      "Train on 1600 samples, validate on 400 samples\n",
      "Epoch 1/10\n",
      "1600/1600 [==============================] - 6s - loss: 0.5072 - acc: 0.7656 - recall: 0.7656 - precision: 0.7656 - fmeasure: 0.7656 - val_loss: 0.4886 - val_acc: 0.8275 - val_recall: 0.8275 - val_precision: 0.8275 - val_fmeasure: 0.8275\n",
      "Epoch 2/10\n",
      "1600/1600 [==============================] - 5s - loss: 0.4908 - acc: 0.8094 - recall: 0.8094 - precision: 0.8094 - fmeasure: 0.8094 - val_loss: 0.4573 - val_acc: 0.8275 - val_recall: 0.8275 - val_precision: 0.8275 - val_fmeasure: 0.8275\n",
      "Epoch 3/10\n",
      "1600/1600 [==============================] - 5s - loss: 0.4863 - acc: 0.8094 - recall: 0.8094 - precision: 0.8094 - fmeasure: 0.8094 - val_loss: 0.4562 - val_acc: 0.8275 - val_recall: 0.8275 - val_precision: 0.8275 - val_fmeasure: 0.8275\n",
      "Epoch 4/10\n",
      "1600/1600 [==============================] - 4s - loss: 0.4836 - acc: 0.8094 - recall: 0.8094 - precision: 0.8094 - fmeasure: 0.8094 - val_loss: 0.4550 - val_acc: 0.8275 - val_recall: 0.8275 - val_precision: 0.8275 - val_fmeasure: 0.8275\n",
      "Epoch 5/10\n",
      "1600/1600 [==============================] - 4s - loss: 0.4789 - acc: 0.8094 - recall: 0.8094 - precision: 0.8094 - fmeasure: 0.8094 - val_loss: 0.5174 - val_acc: 0.8300 - val_recall: 0.8300 - val_precision: 0.8300 - val_fmeasure: 0.8300\n",
      "Epoch 6/10\n",
      "1600/1600 [==============================] - 4s - loss: 0.4848 - acc: 0.8094 - recall: 0.8094 - precision: 0.8094 - fmeasure: 0.8094 - val_loss: 0.4526 - val_acc: 0.8275 - val_recall: 0.8275 - val_precision: 0.8275 - val_fmeasure: 0.8275\n",
      "Epoch 7/10\n",
      "1600/1600 [==============================] - 4s - loss: 0.4857 - acc: 0.8094 - recall: 0.8094 - precision: 0.8094 - fmeasure: 0.8094 - val_loss: 0.4501 - val_acc: 0.8275 - val_recall: 0.8275 - val_precision: 0.8275 - val_fmeasure: 0.8275\n",
      "Epoch 8/10\n",
      "1600/1600 [==============================] - 4s - loss: 0.4753 - acc: 0.8094 - recall: 0.8094 - precision: 0.8094 - fmeasure: 0.8094 - val_loss: 0.4666 - val_acc: 0.8275 - val_recall: 0.8275 - val_precision: 0.8275 - val_fmeasure: 0.8275\n",
      "Epoch 9/10\n",
      "1600/1600 [==============================] - 4s - loss: 0.4786 - acc: 0.8094 - recall: 0.8094 - precision: 0.8094 - fmeasure: 0.8094 - val_loss: 0.5001 - val_acc: 0.8300 - val_recall: 0.8300 - val_precision: 0.8300 - val_fmeasure: 0.8300\n",
      "Epoch 10/10\n",
      "1600/1600 [==============================] - 4s - loss: 0.4858 - acc: 0.8094 - recall: 0.8094 - precision: 0.8094 - fmeasure: 0.8094 - val_loss: 0.4566 - val_acc: 0.8275 - val_recall: 0.8275 - val_precision: 0.8275 - val_fmeasure: 0.8275\n",
      "Test loss: 0.45664078474\n",
      "Test accuracy: 0.8275\n",
      "Test recall: 0.8275\n",
      "Test precision: 0.8275\n",
      "Test fmeasure: 0.8275\n"
     ]
    }
   ],
   "source": [
    "batch_size = 128\n",
    "epochs = 10\n",
    "\n",
    "#64*64 resolution, 3 stands for RGB\n",
    "input_shape = (64, 64,3)\n",
    "\n",
    "model = Sequential()\n",
    "model.add(Conv2D(32, kernel_size=(5, 5), activation='relu',input_shape=input_shape,strides=(2, 2)))\n",
    "model.add(MaxPooling2D(pool_size=(2, 2)))\n",
    "model.add(Conv2D(64, (3, 3), activation='relu', strides=(1, 1)))\n",
    "model.add(MaxPooling2D(pool_size=(2, 2)))\n",
    "model.add(Flatten())\n",
    "model.add(Dense(256, activation='relu'))\n",
    "model.add(Dense(num_classes, activation='softmax'))\n",
    "\n",
    "#Compiling model: Using categorical crossentropy loss function and adagrad optimiser\n",
    "model.compile(loss=keras.losses.categorical_crossentropy,\n",
    "              optimizer=keras.optimizers.Adadelta(),\n",
    "              metrics = ['accuracy',recall,precision,fmeasure])\n",
    "\n",
    "#Training model\n",
    "history= model.fit(x_train, y_train,\n",
    "          batch_size=batch_size,\n",
    "          epochs=epochs,\n",
    "          verbose=1,\n",
    "          validation_data=(x_test, y_test),class_weight=class_weight)\n",
    "\n",
    "#Validating model\n",
    "score = model.evaluate(x_test, y_test, verbose=0)\n",
    "print('Test loss:', score[0])\n",
    "print('Test accuracy:', score[1])\n",
    "print('Test recall:', score[2])\n",
    "print('Test precision:', score[3])\n",
    "print('Test fmeasure:', score[4])"
   ]
  },
  {
   "cell_type": "code",
   "execution_count": 7,
   "metadata": {},
   "outputs": [],
   "source": [
    "y_pred=model.predict(x_test)\n"
   ]
  },
  {
   "cell_type": "code",
   "execution_count": 8,
   "metadata": {},
   "outputs": [],
   "source": [
    "from sklearn.metrics import confusion_matrix\n",
    "cnf_matrix= confusion_matrix(y_test.argmax(axis=1), y_pred.argmax(axis=1))\n"
   ]
  },
  {
   "cell_type": "code",
   "execution_count": 9,
   "metadata": {},
   "outputs": [
    {
     "data": {
      "text/plain": [
       "array([[331,   0],\n",
       "       [ 69,   0]])"
      ]
     },
     "execution_count": 9,
     "metadata": {},
     "output_type": "execute_result"
    }
   ],
   "source": [
    "cnf_matrix"
   ]
  },
  {
   "cell_type": "code",
   "execution_count": 10,
   "metadata": {
    "collapsed": true
   },
   "outputs": [],
   "source": [
    "import itertools\n",
    "def plot_confusion_matrix(cm, classes,name = \"Cf.png\",\n",
    "                          title='Confusion matrix',\n",
    "                          cmap=plt.cm.Blues):\n",
    "    \"\"\"\n",
    "    This function prints and plots the confusion matrix.\n",
    "    \"\"\"\n",
    "    print(cm)\n",
    "\n",
    "    plt.imshow(cm, interpolation='nearest', cmap=cmap)\n",
    "    plt.title(title)\n",
    "    plt.colorbar()\n",
    "    tick_marks = np.arange(len(classes))\n",
    "    plt.xticks(tick_marks, classes, rotation=45)\n",
    "    plt.yticks(tick_marks, classes)\n",
    "\n",
    "    fmt = 'd'\n",
    "    thresh = cm.max() / 2.\n",
    "    for i, j in itertools.product(range(cm.shape[0]), range(cm.shape[1])):\n",
    "        plt.text(j, i, format(cm[i, j], fmt),\n",
    "                 horizontalalignment=\"center\",\n",
    "                 color=\"white\" if cm[i, j] > thresh else \"black\")\n",
    "    fig = plt.gcf()\n",
    "    plt.tight_layout()\n",
    "    plt.ylabel('True label')\n",
    "    plt.xlabel('Predicted label')\n",
    "    fig.savefig(name)\n",
    "    plt.show()"
   ]
  },
  {
   "cell_type": "code",
   "execution_count": 11,
   "metadata": {},
   "outputs": [
    {
     "name": "stdout",
     "output_type": "stream",
     "text": [
      "[[331   0]\n",
      " [ 69   0]]\n"
     ]
    },
    {
     "data": {
      "image/png": "[encoded data removed]",
      "text/plain": [
       "<matplotlib.figure.Figure at 0x7fe74baaefd0>"
      ]
     },
     "metadata": {},
     "output_type": "display_data"
    }
   ],
   "source": [
    "\n",
    "class_names = ['Others', 'Melanoma']\n",
    "plot_confusion_matrix(cnf_matrix, classes=class_names,\n",
    "                      name = \"Confusion_matrix.png\",\n",
    "                      title='Confusion matrix')"
   ]
  },
  {
   "cell_type": "code",
   "execution_count": null,
   "metadata": {
    "collapsed": true
   },
   "outputs": [],
   "source": []
  }
 ],
 "metadata": {
  "kernelspec": {
   "display_name": "Python 3",
   "language": "python",
   "name": "python3"
  },
  "language_info": {
   "codemirror_mode": {
    "name": "ipython",
    "version": 3
   },
   "file_extension": ".py",
   "mimetype": "text/x-python",
   "name": "python",
   "nbconvert_exporter": "python",
   "pygments_lexer": "ipython3",
   "version": "3.6.3"
  }
 },
 "nbformat": 4,
 "nbformat_minor": 2
}
